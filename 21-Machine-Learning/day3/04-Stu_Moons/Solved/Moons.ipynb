{
 "cells": [
  {
   "cell_type": "code",
   "execution_count": 1,
   "metadata": {},
   "outputs": [],
   "source": [
    "# Set the seed value for the notebook so the results are reproducible\n",
    "from numpy.random import seed\n",
    "seed(1)"
   ]
  },
  {
   "cell_type": "code",
   "execution_count": 19,
   "metadata": {},
   "outputs": [
    {
     "name": "stdout",
     "output_type": "stream",
     "text": [
      "Collecting keras\n",
      "  Downloading https://files.pythonhosted.org/packages/ad/fd/6bfe87920d7f4fd475acd28500a42482b6b84479832bdc0fe9e589a60ceb/Keras-2.3.1-py2.py3-none-any.whl (377kB)\n",
      "Requirement already satisfied: scipy>=0.14 in c:\\users\\taylo\\anaconda3\\lib\\site-packages (from keras) (1.2.1)\n",
      "Requirement already satisfied: h5py in c:\\users\\taylo\\anaconda3\\lib\\site-packages (from keras) (2.9.0)\n",
      "Requirement already satisfied: keras-preprocessing>=1.0.5 in c:\\users\\taylo\\anaconda3\\lib\\site-packages (from keras) (1.1.0)\n",
      "Requirement already satisfied: numpy>=1.9.1 in c:\\users\\taylo\\anaconda3\\lib\\site-packages (from keras) (1.16.4)\n",
      "Requirement already satisfied: keras-applications>=1.0.6 in c:\\users\\taylo\\anaconda3\\lib\\site-packages (from keras) (1.0.8)\n",
      "Requirement already satisfied: six>=1.9.0 in c:\\users\\taylo\\anaconda3\\lib\\site-packages (from keras) (1.12.0)\n",
      "Requirement already satisfied: pyyaml in c:\\users\\taylo\\anaconda3\\lib\\site-packages (from keras) (5.1.1)\n",
      "Installing collected packages: keras\n",
      "Successfully installed keras-2.3.1\n"
     ]
    }
   ],
   "source": [
    "#!pip install keras"
   ]
  },
  {
   "cell_type": "code",
   "execution_count": 2,
   "metadata": {},
   "outputs": [],
   "source": [
    "%matplotlib inline\n",
    "import matplotlib.pyplot as plt\n",
    "import numpy as np\n",
    "import sklearn\n",
    "import sklearn.datasets"
   ]
  },
  {
   "cell_type": "code",
   "execution_count": 3,
   "metadata": {},
   "outputs": [],
   "source": [
    "X, y = sklearn.datasets.make_moons(200, noise=0.05)"
   ]
  },
  {
   "cell_type": "code",
   "execution_count": 4,
   "metadata": {},
   "outputs": [
    {
     "data": {
      "text/plain": [
       "<matplotlib.collections.PathCollection at 0x1ab62f6c828>"
      ]
     },
     "execution_count": 4,
     "metadata": {},
     "output_type": "execute_result"
    },
    {
     "data": {
      "image/png": "[encoded data removed]",
      "text/plain": [
       "<Figure size 432x288 with 1 Axes>"
      ]
     },
     "metadata": {
      "needs_background": "light"
     },
     "output_type": "display_data"
    }
   ],
   "source": [
    "plt.scatter(X[:, 0], X[:, 1], c=y)"
   ]
  },
  {
   "cell_type": "code",
   "execution_count": 5,
   "metadata": {
    "nbgrader": {
     "grade": false,
     "grade_id": "cell-25fb99ba413a3271",
     "locked": false,
     "schema_version": 1,
     "solution": true
    }
   },
   "outputs": [],
   "source": [
    "# Use train_test_split to create training and testing data\n",
    "from sklearn.model_selection import train_test_split\n",
    "\n",
    "X_train, X_test, y_train, y_test = train_test_split(X, y, random_state=1)"
   ]
  },
  {
   "cell_type": "code",
   "execution_count": 6,
   "metadata": {
    "nbgrader": {
     "grade": false,
     "grade_id": "cell-7e1de5d9b7942f68",
     "locked": false,
     "schema_version": 1,
     "solution": true
    }
   },
   "outputs": [],
   "source": [
    "from sklearn.preprocessing import StandardScaler\n",
    "\n",
    "# Create a StandardScater model and fit it to the training data\n",
    "X_scaler = StandardScaler().fit(X_train)"
   ]
  },
  {
   "cell_type": "code",
   "execution_count": 7,
   "metadata": {
    "nbgrader": {
     "grade": false,
     "grade_id": "cell-9532e12246e485d5",
     "locked": false,
     "schema_version": 1,
     "solution": true
    }
   },
   "outputs": [],
   "source": [
    "# Transform the training and testing data using the X_scaler\n",
    "\n",
    "X_train_scaled = X_scaler.transform(X_train)\n",
    "X_test_scaled = X_scaler.transform(X_test)"
   ]
  },
  {
   "cell_type": "code",
   "execution_count": 8,
   "metadata": {},
   "outputs": [],
   "source": [
    "from tensorflow.keras.utils import to_categorical"
   ]
  },
  {
   "cell_type": "code",
   "execution_count": 9,
   "metadata": {},
   "outputs": [],
   "source": [
    "# One-hot encoding\n",
    "y_train_categorical = to_categorical(y_train)\n",
    "y_test_categorical = to_categorical(y_test)"
   ]
  },
  {
   "cell_type": "code",
   "execution_count": 10,
   "metadata": {
    "nbgrader": {
     "grade": false,
     "grade_id": "cell-ec399a95e133cb58",
     "locked": false,
     "schema_version": 1,
     "solution": true
    }
   },
   "outputs": [],
   "source": [
    "# first, create a normal neural network with 2 inputs, 6 hidden nodes, and 2 outputs\n",
    "from tensorflow.keras.models import Sequential\n",
    "from tensorflow.keras.layers import Dense\n",
    "\n",
    "model = Sequential()\n",
    "model.add(Dense(units=6, activation='relu', input_dim=2))\n",
    "model.add(Dense(units=2, activation='softmax'))"
   ]
  },
  {
   "cell_type": "code",
   "execution_count": 11,
   "metadata": {},
   "outputs": [
    {
     "name": "stdout",
     "output_type": "stream",
     "text": [
      "Model: \"sequential\"\n",
      "_________________________________________________________________\n",
      "Layer (type)                 Output Shape              Param #   \n",
      "=================================================================\n",
      "dense (Dense)                (None, 6)                 18        \n",
      "_________________________________________________________________\n",
      "dense_1 (Dense)              (None, 2)                 14        \n",
      "=================================================================\n",
      "Total params: 32\n",
      "Trainable params: 32\n",
      "Non-trainable params: 0\n",
      "_________________________________________________________________\n"
     ]
    }
   ],
   "source": [
    "model.summary()"
   ]
  },
  {
   "cell_type": "code",
   "execution_count": 12,
   "metadata": {},
   "outputs": [],
   "source": [
    "# Compile the model\n",
    "model.compile(optimizer='adam',\n",
    "              loss='categorical_crossentropy',\n",
    "              metrics=['accuracy'])"
   ]
  },
  {
   "cell_type": "code",
   "execution_count": 13,
   "metadata": {
    "nbgrader": {
     "grade": false,
     "grade_id": "cell-5cf2fbdbea0ed50b",
     "locked": false,
     "schema_version": 1,
     "solution": true
    }
   },
   "outputs": [
    {
     "name": "stdout",
     "output_type": "stream",
     "text": [
      "Train on 150 samples\n",
      "Epoch 1/100\n",
      "150/150 - 0s - loss: 0.8527 - accuracy: 0.3533\n",
      "Epoch 2/100\n",
      "150/150 - 0s - loss: 0.8389 - accuracy: 0.3867\n",
      "Epoch 3/100\n",
      "150/150 - 0s - loss: 0.8253 - accuracy: 0.4000\n",
      "Epoch 4/100\n",
      "150/150 - 0s - loss: 0.8118 - accuracy: 0.4333\n",
      "Epoch 5/100\n",
      "150/150 - 0s - loss: 0.7993 - accuracy: 0.4400\n",
      "Epoch 6/100\n",
      "150/150 - 0s - loss: 0.7865 - accuracy: 0.4667\n",
      "Epoch 7/100\n",
      "150/150 - 0s - loss: 0.7738 - accuracy: 0.4867\n",
      "Epoch 8/100\n",
      "150/150 - 0s - loss: 0.7616 - accuracy: 0.4933\n",
      "Epoch 9/100\n",
      "150/150 - 0s - loss: 0.7499 - accuracy: 0.4800\n",
      "Epoch 10/100\n",
      "150/150 - 0s - loss: 0.7376 - accuracy: 0.5000\n",
      "Epoch 11/100\n",
      "150/150 - 0s - loss: 0.7261 - accuracy: 0.5000\n",
      "Epoch 12/100\n",
      "150/150 - 0s - loss: 0.7142 - accuracy: 0.5133\n",
      "Epoch 13/100\n",
      "150/150 - 0s - loss: 0.7026 - accuracy: 0.5267\n",
      "Epoch 14/100\n",
      "150/150 - 0s - loss: 0.6910 - accuracy: 0.5467\n",
      "Epoch 15/100\n",
      "150/150 - 0s - loss: 0.6796 - accuracy: 0.5533\n",
      "Epoch 16/100\n",
      "150/150 - 0s - loss: 0.6682 - accuracy: 0.5467\n",
      "Epoch 17/100\n",
      "150/150 - 0s - loss: 0.6568 - accuracy: 0.5467\n",
      "Epoch 18/100\n",
      "150/150 - 0s - loss: 0.6455 - accuracy: 0.5533\n",
      "Epoch 19/100\n",
      "150/150 - 0s - loss: 0.6345 - accuracy: 0.6200\n",
      "Epoch 20/100\n",
      "150/150 - 0s - loss: 0.6232 - accuracy: 0.8133\n",
      "Epoch 21/100\n",
      "150/150 - 0s - loss: 0.6121 - accuracy: 0.8733\n",
      "Epoch 22/100\n",
      "150/150 - 0s - loss: 0.6013 - accuracy: 0.8800\n",
      "Epoch 23/100\n",
      "150/150 - 0s - loss: 0.5907 - accuracy: 0.8867\n",
      "Epoch 24/100\n",
      "150/150 - 0s - loss: 0.5799 - accuracy: 0.8867\n",
      "Epoch 25/100\n",
      "150/150 - 0s - loss: 0.5695 - accuracy: 0.8867\n",
      "Epoch 26/100\n",
      "150/150 - 0s - loss: 0.5589 - accuracy: 0.8933\n",
      "Epoch 27/100\n",
      "150/150 - 0s - loss: 0.5488 - accuracy: 0.8933\n",
      "Epoch 28/100\n",
      "150/150 - 0s - loss: 0.5388 - accuracy: 0.8867\n",
      "Epoch 29/100\n",
      "150/150 - 0s - loss: 0.5284 - accuracy: 0.8933\n",
      "Epoch 30/100\n",
      "150/150 - 0s - loss: 0.5188 - accuracy: 0.8933\n",
      "Epoch 31/100\n",
      "150/150 - 0s - loss: 0.5093 - accuracy: 0.9000\n",
      "Epoch 32/100\n",
      "150/150 - 0s - loss: 0.5000 - accuracy: 0.9000\n",
      "Epoch 33/100\n",
      "150/150 - 0s - loss: 0.4907 - accuracy: 0.9000\n",
      "Epoch 34/100\n",
      "150/150 - 0s - loss: 0.4817 - accuracy: 0.9000\n",
      "Epoch 35/100\n",
      "150/150 - 0s - loss: 0.4733 - accuracy: 0.9000\n",
      "Epoch 36/100\n",
      "150/150 - 0s - loss: 0.4646 - accuracy: 0.9000\n",
      "Epoch 37/100\n",
      "150/150 - 0s - loss: 0.4565 - accuracy: 0.9000\n",
      "Epoch 38/100\n",
      "150/150 - 0s - loss: 0.4486 - accuracy: 0.8933\n",
      "Epoch 39/100\n",
      "150/150 - 0s - loss: 0.4409 - accuracy: 0.8933\n",
      "Epoch 40/100\n",
      "150/150 - 0s - loss: 0.4333 - accuracy: 0.8933\n",
      "Epoch 41/100\n",
      "150/150 - 0s - loss: 0.4263 - accuracy: 0.8933\n",
      "Epoch 42/100\n",
      "150/150 - 0s - loss: 0.4194 - accuracy: 0.8867\n",
      "Epoch 43/100\n",
      "150/150 - 0s - loss: 0.4126 - accuracy: 0.8867\n",
      "Epoch 44/100\n",
      "150/150 - 0s - loss: 0.4059 - accuracy: 0.8867\n",
      "Epoch 45/100\n",
      "150/150 - 0s - loss: 0.3998 - accuracy: 0.8867\n",
      "Epoch 46/100\n",
      "150/150 - 0s - loss: 0.3938 - accuracy: 0.8867\n",
      "Epoch 47/100\n",
      "150/150 - 0s - loss: 0.3879 - accuracy: 0.8867\n",
      "Epoch 48/100\n",
      "150/150 - 0s - loss: 0.3825 - accuracy: 0.8800\n",
      "Epoch 49/100\n",
      "150/150 - 0s - loss: 0.3770 - accuracy: 0.8800\n",
      "Epoch 50/100\n",
      "150/150 - 0s - loss: 0.3720 - accuracy: 0.8800\n",
      "Epoch 51/100\n",
      "150/150 - 0s - loss: 0.3671 - accuracy: 0.8800\n",
      "Epoch 52/100\n",
      "150/150 - 0s - loss: 0.3620 - accuracy: 0.8800\n",
      "Epoch 53/100\n",
      "150/150 - 0s - loss: 0.3576 - accuracy: 0.8800\n",
      "Epoch 54/100\n",
      "150/150 - 0s - loss: 0.3531 - accuracy: 0.8800\n",
      "Epoch 55/100\n",
      "150/150 - 0s - loss: 0.3490 - accuracy: 0.8800\n",
      "Epoch 56/100\n",
      "150/150 - 0s - loss: 0.3450 - accuracy: 0.8800\n",
      "Epoch 57/100\n",
      "150/150 - 0s - loss: 0.3413 - accuracy: 0.8800\n",
      "Epoch 58/100\n",
      "150/150 - 0s - loss: 0.3374 - accuracy: 0.8800\n",
      "Epoch 59/100\n",
      "150/150 - 0s - loss: 0.3338 - accuracy: 0.8800\n",
      "Epoch 60/100\n",
      "150/150 - 0s - loss: 0.3305 - accuracy: 0.8800\n",
      "Epoch 61/100\n",
      "150/150 - 0s - loss: 0.3273 - accuracy: 0.8800\n",
      "Epoch 62/100\n",
      "150/150 - 0s - loss: 0.3242 - accuracy: 0.8800\n",
      "Epoch 63/100\n",
      "150/150 - 0s - loss: 0.3211 - accuracy: 0.8800\n",
      "Epoch 64/100\n",
      "150/150 - 0s - loss: 0.3184 - accuracy: 0.8800\n",
      "Epoch 65/100\n",
      "150/150 - 0s - loss: 0.3157 - accuracy: 0.8800\n",
      "Epoch 66/100\n",
      "150/150 - 0s - loss: 0.3131 - accuracy: 0.8800\n",
      "Epoch 67/100\n",
      "150/150 - 0s - loss: 0.3107 - accuracy: 0.8800\n",
      "Epoch 68/100\n",
      "150/150 - 0s - loss: 0.3082 - accuracy: 0.8800\n",
      "Epoch 69/100\n",
      "150/150 - 0s - loss: 0.3060 - accuracy: 0.8800\n",
      "Epoch 70/100\n",
      "150/150 - 0s - loss: 0.3037 - accuracy: 0.8800\n",
      "Epoch 71/100\n",
      "150/150 - 0s - loss: 0.3017 - accuracy: 0.8800\n",
      "Epoch 72/100\n",
      "150/150 - 0s - loss: 0.2996 - accuracy: 0.8800\n",
      "Epoch 73/100\n",
      "150/150 - 0s - loss: 0.2976 - accuracy: 0.8800\n",
      "Epoch 74/100\n",
      "150/150 - 0s - loss: 0.2957 - accuracy: 0.8800\n",
      "Epoch 75/100\n",
      "150/150 - 0s - loss: 0.2940 - accuracy: 0.8800\n",
      "Epoch 76/100\n",
      "150/150 - 0s - loss: 0.2922 - accuracy: 0.8800\n",
      "Epoch 77/100\n",
      "150/150 - 0s - loss: 0.2904 - accuracy: 0.8800\n",
      "Epoch 78/100\n",
      "150/150 - 0s - loss: 0.2890 - accuracy: 0.8800\n",
      "Epoch 79/100\n",
      "150/150 - 0s - loss: 0.2874 - accuracy: 0.8800\n",
      "Epoch 80/100\n",
      "150/150 - 0s - loss: 0.2859 - accuracy: 0.8800\n",
      "Epoch 81/100\n",
      "150/150 - 0s - loss: 0.2845 - accuracy: 0.8800\n",
      "Epoch 82/100\n",
      "150/150 - 0s - loss: 0.2830 - accuracy: 0.8800\n",
      "Epoch 83/100\n",
      "150/150 - 0s - loss: 0.2818 - accuracy: 0.8800\n",
      "Epoch 84/100\n",
      "150/150 - 0s - loss: 0.2804 - accuracy: 0.8800\n",
      "Epoch 85/100\n",
      "150/150 - 0s - loss: 0.2792 - accuracy: 0.8800\n",
      "Epoch 86/100\n",
      "150/150 - 0s - loss: 0.2780 - accuracy: 0.8800\n",
      "Epoch 87/100\n",
      "150/150 - 0s - loss: 0.2768 - accuracy: 0.8800\n",
      "Epoch 88/100\n",
      "150/150 - 0s - loss: 0.2757 - accuracy: 0.8800\n",
      "Epoch 89/100\n",
      "150/150 - 0s - loss: 0.2746 - accuracy: 0.8800\n",
      "Epoch 90/100\n",
      "150/150 - 0s - loss: 0.2735 - accuracy: 0.8800\n",
      "Epoch 91/100\n",
      "150/150 - 0s - loss: 0.2725 - accuracy: 0.8800\n",
      "Epoch 92/100\n",
      "150/150 - 0s - loss: 0.2715 - accuracy: 0.8800\n",
      "Epoch 93/100\n",
      "150/150 - 0s - loss: 0.2705 - accuracy: 0.8800\n",
      "Epoch 94/100\n",
      "150/150 - 0s - loss: 0.2696 - accuracy: 0.8800\n",
      "Epoch 95/100\n",
      "150/150 - 0s - loss: 0.2687 - accuracy: 0.8800\n",
      "Epoch 96/100\n",
      "150/150 - 0s - loss: 0.2677 - accuracy: 0.8800\n",
      "Epoch 97/100\n",
      "150/150 - 0s - loss: 0.2670 - accuracy: 0.8800\n",
      "Epoch 98/100\n",
      "150/150 - 0s - loss: 0.2661 - accuracy: 0.8800\n",
      "Epoch 99/100\n",
      "150/150 - 0s - loss: 0.2652 - accuracy: 0.8800\n",
      "Epoch 100/100\n",
      "150/150 - 0s - loss: 0.2644 - accuracy: 0.8800\n"
     ]
    },
    {
     "data": {
      "text/plain": [
       "<tensorflow.python.keras.callbacks.History at 0x1ab67b47ef0>"
      ]
     },
     "execution_count": 13,
     "metadata": {},
     "output_type": "execute_result"
    }
   ],
   "source": [
    "# Fit the model to the training data\n",
    "model.fit(\n",
    "    X_train_scaled,\n",
    "    y_train_categorical,\n",
    "    epochs=100,\n",
    "    shuffle=True,\n",
    "    verbose=2\n",
    ")"
   ]
  },
  {
   "cell_type": "markdown",
   "metadata": {},
   "source": [
    "# Deep Learning\n",
    "For this network, we simply add an additional hidden layer of 6 nodes"
   ]
  },
  {
   "cell_type": "code",
   "execution_count": 14,
   "metadata": {},
   "outputs": [],
   "source": [
    "deep_model = Sequential()\n",
    "deep_model.add(Dense(units=6, activation='relu', input_dim=2))\n",
    "deep_model.add(Dense(units=6, activation='relu'))\n",
    "deep_model.add(Dense(units=2, activation='softmax'))"
   ]
  },
  {
   "cell_type": "code",
   "execution_count": 15,
   "metadata": {},
   "outputs": [
    {
     "name": "stdout",
     "output_type": "stream",
     "text": [
      "Model: \"sequential_1\"\n",
      "_________________________________________________________________\n",
      "Layer (type)                 Output Shape              Param #   \n",
      "=================================================================\n",
      "dense_2 (Dense)              (None, 6)                 18        \n",
      "_________________________________________________________________\n",
      "dense_3 (Dense)              (None, 6)                 42        \n",
      "_________________________________________________________________\n",
      "dense_4 (Dense)              (None, 2)                 14        \n",
      "=================================================================\n",
      "Total params: 74\n",
      "Trainable params: 74\n",
      "Non-trainable params: 0\n",
      "_________________________________________________________________\n"
     ]
    }
   ],
   "source": [
    "deep_model.summary()"
   ]
  },
  {
   "cell_type": "code",
   "execution_count": 16,
   "metadata": {},
   "outputs": [
    {
     "name": "stdout",
     "output_type": "stream",
     "text": [
      "Train on 150 samples\n",
      "Epoch 1/100\n",
      "150/150 - 0s - loss: 0.7860 - accuracy: 0.5133\n",
      "Epoch 2/100\n",
      "150/150 - 0s - loss: 0.7751 - accuracy: 0.5067\n",
      "Epoch 3/100\n",
      "150/150 - 0s - loss: 0.7650 - accuracy: 0.5133\n",
      "Epoch 4/100\n",
      "150/150 - 0s - loss: 0.7544 - accuracy: 0.5133\n",
      "Epoch 5/100\n",
      "150/150 - 0s - loss: 0.7447 - accuracy: 0.5133\n",
      "Epoch 6/100\n",
      "150/150 - 0s - loss: 0.7349 - accuracy: 0.5267\n",
      "Epoch 7/100\n",
      "150/150 - 0s - loss: 0.7254 - accuracy: 0.5267\n",
      "Epoch 8/100\n",
      "150/150 - 0s - loss: 0.7156 - accuracy: 0.5267\n",
      "Epoch 9/100\n",
      "150/150 - 0s - loss: 0.7060 - accuracy: 0.5267\n",
      "Epoch 10/100\n",
      "150/150 - 0s - loss: 0.6967 - accuracy: 0.5333\n",
      "Epoch 11/100\n",
      "150/150 - 0s - loss: 0.6874 - accuracy: 0.5333\n",
      "Epoch 12/100\n",
      "150/150 - 0s - loss: 0.6782 - accuracy: 0.5467\n",
      "Epoch 13/100\n",
      "150/150 - 0s - loss: 0.6686 - accuracy: 0.6000\n",
      "Epoch 14/100\n",
      "150/150 - 0s - loss: 0.6594 - accuracy: 0.6400\n",
      "Epoch 15/100\n",
      "150/150 - 0s - loss: 0.6498 - accuracy: 0.6667\n",
      "Epoch 16/100\n",
      "150/150 - 0s - loss: 0.6399 - accuracy: 0.7067\n",
      "Epoch 17/100\n",
      "150/150 - 0s - loss: 0.6303 - accuracy: 0.7133\n",
      "Epoch 18/100\n",
      "150/150 - 0s - loss: 0.6207 - accuracy: 0.7267\n",
      "Epoch 19/100\n",
      "150/150 - 0s - loss: 0.6112 - accuracy: 0.7400\n",
      "Epoch 20/100\n",
      "150/150 - 0s - loss: 0.6019 - accuracy: 0.7400\n",
      "Epoch 21/100\n",
      "150/150 - 0s - loss: 0.5925 - accuracy: 0.7600\n",
      "Epoch 22/100\n",
      "150/150 - 0s - loss: 0.5840 - accuracy: 0.8067\n",
      "Epoch 23/100\n",
      "150/150 - 0s - loss: 0.5747 - accuracy: 0.8267\n",
      "Epoch 24/100\n",
      "150/150 - 0s - loss: 0.5656 - accuracy: 0.8600\n",
      "Epoch 25/100\n",
      "150/150 - 0s - loss: 0.5565 - accuracy: 0.8667\n",
      "Epoch 26/100\n",
      "150/150 - 0s - loss: 0.5468 - accuracy: 0.8667\n",
      "Epoch 27/100\n",
      "150/150 - 0s - loss: 0.5373 - accuracy: 0.8733\n",
      "Epoch 28/100\n",
      "150/150 - 0s - loss: 0.5277 - accuracy: 0.8800\n",
      "Epoch 29/100\n",
      "150/150 - 0s - loss: 0.5168 - accuracy: 0.8733\n",
      "Epoch 30/100\n",
      "150/150 - 0s - loss: 0.5064 - accuracy: 0.8800\n",
      "Epoch 31/100\n",
      "150/150 - 0s - loss: 0.4957 - accuracy: 0.8800\n",
      "Epoch 32/100\n",
      "150/150 - 0s - loss: 0.4854 - accuracy: 0.8800\n",
      "Epoch 33/100\n",
      "150/150 - 0s - loss: 0.4747 - accuracy: 0.8800\n",
      "Epoch 34/100\n",
      "150/150 - 0s - loss: 0.4638 - accuracy: 0.8933\n",
      "Epoch 35/100\n",
      "150/150 - 0s - loss: 0.4525 - accuracy: 0.8933\n",
      "Epoch 36/100\n",
      "150/150 - 0s - loss: 0.4422 - accuracy: 0.8867\n",
      "Epoch 37/100\n",
      "150/150 - 0s - loss: 0.4311 - accuracy: 0.8867\n",
      "Epoch 38/100\n",
      "150/150 - 0s - loss: 0.4204 - accuracy: 0.8867\n",
      "Epoch 39/100\n",
      "150/150 - 0s - loss: 0.4100 - accuracy: 0.8800\n",
      "Epoch 40/100\n",
      "150/150 - 0s - loss: 0.3998 - accuracy: 0.8800\n",
      "Epoch 41/100\n",
      "150/150 - 0s - loss: 0.3893 - accuracy: 0.8867\n",
      "Epoch 42/100\n",
      "150/150 - 0s - loss: 0.3791 - accuracy: 0.8867\n",
      "Epoch 43/100\n",
      "150/150 - 0s - loss: 0.3694 - accuracy: 0.8867\n",
      "Epoch 44/100\n",
      "150/150 - 0s - loss: 0.3598 - accuracy: 0.8867\n",
      "Epoch 45/100\n",
      "150/150 - 0s - loss: 0.3508 - accuracy: 0.8867\n",
      "Epoch 46/100\n",
      "150/150 - 0s - loss: 0.3421 - accuracy: 0.8867\n",
      "Epoch 47/100\n",
      "150/150 - 0s - loss: 0.3335 - accuracy: 0.8867\n",
      "Epoch 48/100\n",
      "150/150 - 0s - loss: 0.3254 - accuracy: 0.8933\n",
      "Epoch 49/100\n",
      "150/150 - 0s - loss: 0.3177 - accuracy: 0.8867\n",
      "Epoch 50/100\n",
      "150/150 - 0s - loss: 0.3108 - accuracy: 0.8867\n",
      "Epoch 51/100\n",
      "150/150 - 0s - loss: 0.3038 - accuracy: 0.8867\n",
      "Epoch 52/100\n",
      "150/150 - 0s - loss: 0.2973 - accuracy: 0.8867\n",
      "Epoch 53/100\n",
      "150/150 - 0s - loss: 0.2912 - accuracy: 0.8867\n",
      "Epoch 54/100\n",
      "150/150 - 0s - loss: 0.2854 - accuracy: 0.8933\n",
      "Epoch 55/100\n",
      "150/150 - 0s - loss: 0.2800 - accuracy: 0.8933\n",
      "Epoch 56/100\n",
      "150/150 - 0s - loss: 0.2750 - accuracy: 0.8933\n",
      "Epoch 57/100\n",
      "150/150 - 0s - loss: 0.2701 - accuracy: 0.8933\n",
      "Epoch 58/100\n",
      "150/150 - 0s - loss: 0.2657 - accuracy: 0.8933\n",
      "Epoch 59/100\n",
      "150/150 - 0s - loss: 0.2620 - accuracy: 0.8867\n",
      "Epoch 60/100\n",
      "150/150 - 0s - loss: 0.2579 - accuracy: 0.8867\n",
      "Epoch 61/100\n",
      "150/150 - 0s - loss: 0.2545 - accuracy: 0.8867\n",
      "Epoch 62/100\n",
      "150/150 - 0s - loss: 0.2512 - accuracy: 0.8867\n",
      "Epoch 63/100\n",
      "150/150 - 0s - loss: 0.2484 - accuracy: 0.8867\n",
      "Epoch 64/100\n",
      "150/150 - 0s - loss: 0.2455 - accuracy: 0.8867\n",
      "Epoch 65/100\n",
      "150/150 - 0s - loss: 0.2430 - accuracy: 0.8867\n",
      "Epoch 66/100\n",
      "150/150 - 0s - loss: 0.2406 - accuracy: 0.8867\n",
      "Epoch 67/100\n",
      "150/150 - 0s - loss: 0.2383 - accuracy: 0.8933\n",
      "Epoch 68/100\n",
      "150/150 - 0s - loss: 0.2366 - accuracy: 0.8933\n",
      "Epoch 69/100\n",
      "150/150 - 0s - loss: 0.2343 - accuracy: 0.8933\n",
      "Epoch 70/100\n",
      "150/150 - 0s - loss: 0.2326 - accuracy: 0.8933\n",
      "Epoch 71/100\n",
      "150/150 - 0s - loss: 0.2310 - accuracy: 0.8933\n",
      "Epoch 72/100\n",
      "150/150 - 0s - loss: 0.2293 - accuracy: 0.8933\n",
      "Epoch 73/100\n",
      "150/150 - 0s - loss: 0.2277 - accuracy: 0.8933\n",
      "Epoch 74/100\n",
      "150/150 - 0s - loss: 0.2263 - accuracy: 0.8933\n",
      "Epoch 75/100\n",
      "150/150 - 0s - loss: 0.2249 - accuracy: 0.8933\n",
      "Epoch 76/100\n",
      "150/150 - 0s - loss: 0.2235 - accuracy: 0.8933\n",
      "Epoch 77/100\n",
      "150/150 - 0s - loss: 0.2224 - accuracy: 0.8933\n",
      "Epoch 78/100\n",
      "150/150 - 0s - loss: 0.2210 - accuracy: 0.8933\n",
      "Epoch 79/100\n",
      "150/150 - 0s - loss: 0.2199 - accuracy: 0.8933\n",
      "Epoch 80/100\n",
      "150/150 - 0s - loss: 0.2186 - accuracy: 0.8933\n",
      "Epoch 81/100\n",
      "150/150 - 0s - loss: 0.2176 - accuracy: 0.8933\n",
      "Epoch 82/100\n",
      "150/150 - 0s - loss: 0.2166 - accuracy: 0.8933\n",
      "Epoch 83/100\n",
      "150/150 - 0s - loss: 0.2156 - accuracy: 0.8933\n",
      "Epoch 84/100\n",
      "150/150 - 0s - loss: 0.2145 - accuracy: 0.8933\n",
      "Epoch 85/100\n",
      "150/150 - 0s - loss: 0.2135 - accuracy: 0.8933\n",
      "Epoch 86/100\n",
      "150/150 - 0s - loss: 0.2127 - accuracy: 0.8933\n",
      "Epoch 87/100\n",
      "150/150 - 0s - loss: 0.2117 - accuracy: 0.8933\n",
      "Epoch 88/100\n",
      "150/150 - 0s - loss: 0.2107 - accuracy: 0.8933\n",
      "Epoch 89/100\n",
      "150/150 - 0s - loss: 0.2100 - accuracy: 0.8933\n",
      "Epoch 90/100\n",
      "150/150 - 0s - loss: 0.2091 - accuracy: 0.8933\n",
      "Epoch 91/100\n",
      "150/150 - 0s - loss: 0.2082 - accuracy: 0.8933\n",
      "Epoch 92/100\n",
      "150/150 - 0s - loss: 0.2075 - accuracy: 0.8933\n",
      "Epoch 93/100\n",
      "150/150 - 0s - loss: 0.2067 - accuracy: 0.8933\n",
      "Epoch 94/100\n",
      "150/150 - 0s - loss: 0.2058 - accuracy: 0.8933\n",
      "Epoch 95/100\n",
      "150/150 - 0s - loss: 0.2050 - accuracy: 0.8933\n",
      "Epoch 96/100\n",
      "150/150 - 0s - loss: 0.2043 - accuracy: 0.8933\n",
      "Epoch 97/100\n",
      "150/150 - 0s - loss: 0.2034 - accuracy: 0.8933\n",
      "Epoch 98/100\n",
      "150/150 - 0s - loss: 0.2026 - accuracy: 0.8933\n",
      "Epoch 99/100\n",
      "150/150 - 0s - loss: 0.2019 - accuracy: 0.8933\n",
      "Epoch 100/100\n",
      "150/150 - 0s - loss: 0.2011 - accuracy: 0.8933\n"
     ]
    },
    {
     "data": {
      "text/plain": [
       "<tensorflow.python.keras.callbacks.History at 0x1ab6a4cf4a8>"
      ]
     },
     "execution_count": 16,
     "metadata": {},
     "output_type": "execute_result"
    }
   ],
   "source": [
    "deep_model.compile(optimizer='adam',\n",
    "                   loss='categorical_crossentropy',\n",
    "                   metrics=['accuracy'])\n",
    "\n",
    "deep_model.fit(\n",
    "    X_train_scaled,\n",
    "    y_train_categorical,\n",
    "    epochs=100,\n",
    "    shuffle=True,\n",
    "    verbose=2\n",
    ")"
   ]
  },
  {
   "cell_type": "markdown",
   "metadata": {},
   "source": [
    "# Compare the models below"
   ]
  },
  {
   "cell_type": "code",
   "execution_count": 17,
   "metadata": {},
   "outputs": [
    {
     "name": "stdout",
     "output_type": "stream",
     "text": [
      "50/1 - 0s - loss: 0.3265 - accuracy: 0.8400\n",
      "Normal Neural Network - Loss: 0.3350220656394958, Accuracy: 0.8399999737739563\n"
     ]
    }
   ],
   "source": [
    "model_loss, model_accuracy = model.evaluate(\n",
    "    X_test_scaled, y_test_categorical, verbose=2)\n",
    "print(\n",
    "    f\"Normal Neural Network - Loss: {model_loss}, Accuracy: {model_accuracy}\")"
   ]
  },
  {
   "cell_type": "code",
   "execution_count": 18,
   "metadata": {},
   "outputs": [
    {
     "name": "stdout",
     "output_type": "stream",
     "text": [
      "50/1 - 0s - loss: 0.3234 - accuracy: 0.8400\n",
      "Deep Neural Network - Loss: 0.3342342138290405, Accuracy: 0.8399999737739563\n"
     ]
    }
   ],
   "source": [
    "model_loss, model_accuracy = deep_model.evaluate(\n",
    "    X_test_scaled, y_test_categorical, verbose=2)\n",
    "print(f\"Deep Neural Network - Loss: {model_loss}, Accuracy: {model_accuracy}\")"
   ]
  }
 ],
 "metadata": {
  "anaconda-cloud": {},
  "kernelspec": {
   "display_name": "Python 3",
   "language": "python",
   "name": "python3"
  },
  "language_info": {
   "codemirror_mode": {
    "name": "ipython",
    "version": 3
   },
   "file_extension": ".py",
   "mimetype": "text/x-python",
   "name": "python",
   "nbconvert_exporter": "python",
   "pygments_lexer": "ipython3",
   "version": "3.7.3"
  },
  "varInspector": {
   "cols": {
    "lenName": 16,
    "lenType": 16,
    "lenVar": 40
   },
   "kernels_config": {
    "python": {
     "delete_cmd_postfix": "",
     "delete_cmd_prefix": "del ",
     "library": "var_list.py",
     "varRefreshCmd": "print(var_dic_list())"
    },
    "r": {
     "delete_cmd_postfix": ") ",
     "delete_cmd_prefix": "rm(",
     "library": "var_list.r",
     "varRefreshCmd": "cat(var_dic_list()) "
    }
   },
   "types_to_exclude": [
    "module",
    "function",
    "builtin_function_or_method",
    "instance",
    "_Feature"
   ],
   "window_display": false
  }
 },
 "nbformat": 4,
 "nbformat_minor": 2
}
