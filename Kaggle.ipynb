{
 "cells": [
  {
   "cell_type": "code",
   "execution_count": 1,
   "metadata": {},
   "outputs": [],
   "source": [
    "%matplotlib inline\n",
    "import matplotlib.pyplot as plt\n",
    "import numpy as np\n",
    "import pandas as pd"
   ]
  },
  {
   "cell_type": "code",
   "execution_count": 2,
   "metadata": {},
   "outputs": [
    {
     "data": {
      "text/html": [
       "<div>\n",
       "<style scoped>\n",
       "    .dataframe tbody tr th:only-of-type {\n",
       "        vertical-align: middle;\n",
       "    }\n",
       "\n",
       "    .dataframe tbody tr th {\n",
       "        vertical-align: top;\n",
       "    }\n",
       "\n",
       "    .dataframe thead th {\n",
       "        text-align: right;\n",
       "    }\n",
       "</style>\n",
       "<table border=\"1\" class=\"dataframe\">\n",
       "  <thead>\n",
       "    <tr style=\"text-align: right;\">\n",
       "      <th></th>\n",
       "      <th>Chart_A_Name</th>\n",
       "      <th>Chart_A_UTCDate</th>\n",
       "      <th>Chart_B_Name</th>\n",
       "      <th>Chart_B_UTCDate</th>\n",
       "      <th>Chart_A_LatLong</th>\n",
       "      <th>Chart_B_LatLong</th>\n",
       "      <th>B_Minus_A_AgeDifference_Years</th>\n",
       "      <th>A-B-MerCnjMer</th>\n",
       "      <th>A-B-MerSxtMer</th>\n",
       "      <th>A-B-MerSqrMer</th>\n",
       "      <th>...</th>\n",
       "      <th>A-B-CerCnjJun</th>\n",
       "      <th>A-B-CerSxtJun</th>\n",
       "      <th>A-B-CerSqrJun</th>\n",
       "      <th>A-B-CerTriJun</th>\n",
       "      <th>A-B-CerOppJun</th>\n",
       "      <th>A-B-CerCnjCer</th>\n",
       "      <th>A-B-CerSxtCer</th>\n",
       "      <th>A-B-CerSqrCer</th>\n",
       "      <th>A-B-CerTriCer</th>\n",
       "      <th>A-B-CerOppCer</th>\n",
       "    </tr>\n",
       "  </thead>\n",
       "  <tbody>\n",
       "    <tr>\n",
       "      <th>0</th>\n",
       "      <td>15Pari10780</td>\n",
       "      <td>1911.03.09 17:42:28</td>\n",
       "      <td>15Pari10789</td>\n",
       "      <td>1911.11.22 20:27:28</td>\n",
       "      <td>48N49-2E19</td>\n",
       "      <td>48N49-2E19</td>\n",
       "      <td>0.703</td>\n",
       "      <td></td>\n",
       "      <td></td>\n",
       "      <td></td>\n",
       "      <td>...</td>\n",
       "      <td></td>\n",
       "      <td></td>\n",
       "      <td></td>\n",
       "      <td></td>\n",
       "      <td></td>\n",
       "      <td></td>\n",
       "      <td></td>\n",
       "      <td>1.4</td>\n",
       "      <td></td>\n",
       "      <td></td>\n",
       "    </tr>\n",
       "    <tr>\n",
       "      <th>1</th>\n",
       "      <td>15Pari76</td>\n",
       "      <td>1880.03.10 21:36:33</td>\n",
       "      <td>15Pari77</td>\n",
       "      <td>1876.08.12 01:36:33</td>\n",
       "      <td>48N49-2E19</td>\n",
       "      <td>48N49-2E19</td>\n",
       "      <td>-3.581</td>\n",
       "      <td></td>\n",
       "      <td></td>\n",
       "      <td></td>\n",
       "      <td>...</td>\n",
       "      <td></td>\n",
       "      <td>-4.5</td>\n",
       "      <td></td>\n",
       "      <td></td>\n",
       "      <td></td>\n",
       "      <td></td>\n",
       "      <td></td>\n",
       "      <td></td>\n",
       "      <td></td>\n",
       "      <td></td>\n",
       "    </tr>\n",
       "    <tr>\n",
       "      <th>2</th>\n",
       "      <td>14PRPari490</td>\n",
       "      <td>1884.04.06 04:42:50</td>\n",
       "      <td>14PRPari491</td>\n",
       "      <td>1886.03.07 19:42:50</td>\n",
       "      <td>47N54-1E54</td>\n",
       "      <td>48N07-5E07</td>\n",
       "      <td>1.919</td>\n",
       "      <td></td>\n",
       "      <td></td>\n",
       "      <td></td>\n",
       "      <td>...</td>\n",
       "      <td></td>\n",
       "      <td></td>\n",
       "      <td></td>\n",
       "      <td></td>\n",
       "      <td></td>\n",
       "      <td></td>\n",
       "      <td></td>\n",
       "      <td></td>\n",
       "      <td></td>\n",
       "      <td></td>\n",
       "    </tr>\n",
       "    <tr>\n",
       "      <th>3</th>\n",
       "      <td>Bourg2385</td>\n",
       "      <td>1935.10.09 10:06:22</td>\n",
       "      <td>Bourg2386</td>\n",
       "      <td>1940.03.31 19:15:42</td>\n",
       "      <td>47N04-2E22</td>\n",
       "      <td>47N04-2E22</td>\n",
       "      <td>4.478</td>\n",
       "      <td></td>\n",
       "      <td></td>\n",
       "      <td></td>\n",
       "      <td>...</td>\n",
       "      <td></td>\n",
       "      <td></td>\n",
       "      <td></td>\n",
       "      <td></td>\n",
       "      <td></td>\n",
       "      <td></td>\n",
       "      <td></td>\n",
       "      <td></td>\n",
       "      <td></td>\n",
       "      <td></td>\n",
       "    </tr>\n",
       "    <tr>\n",
       "      <th>4</th>\n",
       "      <td>Bourg1498</td>\n",
       "      <td>1893.06.27 21:37:16</td>\n",
       "      <td>Bourg1499</td>\n",
       "      <td>1896.08.06 05:37:16</td>\n",
       "      <td>48N49-2E19</td>\n",
       "      <td>47N04-2E22</td>\n",
       "      <td>3.108</td>\n",
       "      <td></td>\n",
       "      <td></td>\n",
       "      <td></td>\n",
       "      <td>...</td>\n",
       "      <td></td>\n",
       "      <td></td>\n",
       "      <td></td>\n",
       "      <td></td>\n",
       "      <td></td>\n",
       "      <td></td>\n",
       "      <td></td>\n",
       "      <td>-5.3</td>\n",
       "      <td></td>\n",
       "      <td></td>\n",
       "    </tr>\n",
       "  </tbody>\n",
       "</table>\n",
       "<p>5 rows × 412 columns</p>\n",
       "</div>"
      ],
      "text/plain": [
       "  Chart_A_Name      Chart_A_UTCDate Chart_B_Name      Chart_B_UTCDate  \\\n",
       "0  15Pari10780  1911.03.09 17:42:28  15Pari10789  1911.11.22 20:27:28   \n",
       "1     15Pari76  1880.03.10 21:36:33     15Pari77  1876.08.12 01:36:33   \n",
       "2  14PRPari490  1884.04.06 04:42:50  14PRPari491  1886.03.07 19:42:50   \n",
       "3    Bourg2385  1935.10.09 10:06:22    Bourg2386  1940.03.31 19:15:42   \n",
       "4    Bourg1498  1893.06.27 21:37:16    Bourg1499  1896.08.06 05:37:16   \n",
       "\n",
       "  Chart_A_LatLong Chart_B_LatLong  B_Minus_A_AgeDifference_Years  \\\n",
       "0      48N49-2E19      48N49-2E19                          0.703   \n",
       "1      48N49-2E19      48N49-2E19                         -3.581   \n",
       "2      47N54-1E54      48N07-5E07                          1.919   \n",
       "3      47N04-2E22      47N04-2E22                          4.478   \n",
       "4      48N49-2E19      47N04-2E22                          3.108   \n",
       "\n",
       "  A-B-MerCnjMer A-B-MerSxtMer A-B-MerSqrMer  ... A-B-CerCnjJun A-B-CerSxtJun  \\\n",
       "0                                            ...                               \n",
       "1                                            ...                        -4.5   \n",
       "2                                            ...                               \n",
       "3                                            ...                               \n",
       "4                                            ...                               \n",
       "\n",
       "  A-B-CerSqrJun A-B-CerTriJun A-B-CerOppJun A-B-CerCnjCer A-B-CerSxtCer  \\\n",
       "0                                                                         \n",
       "1                                                                         \n",
       "2                                                                         \n",
       "3                                                                         \n",
       "4                                                                         \n",
       "\n",
       "  A-B-CerSqrCer A-B-CerTriCer A-B-CerOppCer  \n",
       "0           1.4                              \n",
       "1                                            \n",
       "2                                            \n",
       "3                                            \n",
       "4          -5.3                              \n",
       "\n",
       "[5 rows x 412 columns]"
      ]
     },
     "execution_count": 2,
     "metadata": {},
     "output_type": "execute_result"
    }
   ],
   "source": [
    "couple_data = pd.read_csv(r'C:\\Users\\maria\\Desktop\\AstroEconomics\\data.csv', sep='\\t')\n",
    "couple_df  = couple_data\n",
    "couple_df.head()"
   ]
  },
  {
   "cell_type": "code",
   "execution_count": 3,
   "metadata": {},
   "outputs": [
    {
     "data": {
      "text/html": [
       "<div>\n",
       "<style scoped>\n",
       "    .dataframe tbody tr th:only-of-type {\n",
       "        vertical-align: middle;\n",
       "    }\n",
       "\n",
       "    .dataframe tbody tr th {\n",
       "        vertical-align: top;\n",
       "    }\n",
       "\n",
       "    .dataframe thead th {\n",
       "        text-align: right;\n",
       "    }\n",
       "</style>\n",
       "<table border=\"1\" class=\"dataframe\">\n",
       "  <thead>\n",
       "    <tr style=\"text-align: right;\">\n",
       "      <th></th>\n",
       "      <th>Chart_A_Name</th>\n",
       "      <th>Chart_A_UTCDate</th>\n",
       "      <th>Chart_B_Name</th>\n",
       "      <th>Chart_B_UTCDate</th>\n",
       "      <th>Chart_A_LatLong</th>\n",
       "      <th>Chart_B_LatLong</th>\n",
       "      <th>B_Minus_A_AgeDifference_Years</th>\n",
       "      <th>A-B-MerCnjMer</th>\n",
       "      <th>A-B-MerSxtMer</th>\n",
       "      <th>A-B-MerSqrMer</th>\n",
       "      <th>...</th>\n",
       "      <th>A-B-CerCnjJun</th>\n",
       "      <th>A-B-CerSxtJun</th>\n",
       "      <th>A-B-CerSqrJun</th>\n",
       "      <th>A-B-CerTriJun</th>\n",
       "      <th>A-B-CerOppJun</th>\n",
       "      <th>A-B-CerCnjCer</th>\n",
       "      <th>A-B-CerSxtCer</th>\n",
       "      <th>A-B-CerSqrCer</th>\n",
       "      <th>A-B-CerTriCer</th>\n",
       "      <th>A-B-CerOppCer</th>\n",
       "    </tr>\n",
       "  </thead>\n",
       "  <tbody>\n",
       "    <tr>\n",
       "      <th>19517</th>\n",
       "      <td>Bourg2538</td>\n",
       "      <td>1912.06.06 03:33:52</td>\n",
       "      <td>Bourg2539</td>\n",
       "      <td>1917.02.21 10:33:52</td>\n",
       "      <td>47N04-2E22</td>\n",
       "      <td>47N04-2E22</td>\n",
       "      <td>4.708</td>\n",
       "      <td>0</td>\n",
       "      <td>0</td>\n",
       "      <td>0</td>\n",
       "      <td>...</td>\n",
       "      <td>0</td>\n",
       "      <td>0</td>\n",
       "      <td>0</td>\n",
       "      <td>0</td>\n",
       "      <td>0</td>\n",
       "      <td>0</td>\n",
       "      <td>0</td>\n",
       "      <td>0</td>\n",
       "      <td>0</td>\n",
       "      <td>0</td>\n",
       "    </tr>\n",
       "    <tr>\n",
       "      <th>19518</th>\n",
       "      <td>15Pari3873</td>\n",
       "      <td>1902.04.21 16:28:35</td>\n",
       "      <td>15Pari3874</td>\n",
       "      <td>1907.01.13 20:01:35</td>\n",
       "      <td>48N49-2E19</td>\n",
       "      <td>48N49-2E19</td>\n",
       "      <td>4.731</td>\n",
       "      <td>0</td>\n",
       "      <td>0</td>\n",
       "      <td>0</td>\n",
       "      <td>...</td>\n",
       "      <td>0</td>\n",
       "      <td>0</td>\n",
       "      <td>0</td>\n",
       "      <td>0</td>\n",
       "      <td>0</td>\n",
       "      <td>-6.0</td>\n",
       "      <td>0</td>\n",
       "      <td>0</td>\n",
       "      <td>0</td>\n",
       "      <td>0</td>\n",
       "    </tr>\n",
       "    <tr>\n",
       "      <th>19519</th>\n",
       "      <td>Bourg441</td>\n",
       "      <td>1933.11.29 10:16:01</td>\n",
       "      <td>Bourg442</td>\n",
       "      <td>1937.01.07 04:16:01</td>\n",
       "      <td>47N04-2E22</td>\n",
       "      <td>47N04-2E22</td>\n",
       "      <td>3.097</td>\n",
       "      <td>0</td>\n",
       "      <td>0</td>\n",
       "      <td>0</td>\n",
       "      <td>...</td>\n",
       "      <td>0</td>\n",
       "      <td>0</td>\n",
       "      <td>0</td>\n",
       "      <td>0</td>\n",
       "      <td>1.5</td>\n",
       "      <td>0</td>\n",
       "      <td>0</td>\n",
       "      <td>4.8</td>\n",
       "      <td>0</td>\n",
       "      <td>0</td>\n",
       "    </tr>\n",
       "    <tr>\n",
       "      <th>19520</th>\n",
       "      <td>Lil4511</td>\n",
       "      <td>1897.09.21 03:12:29</td>\n",
       "      <td>Lil4514</td>\n",
       "      <td>1890.06.29 03:09:29</td>\n",
       "      <td>50N39-3E04</td>\n",
       "      <td>50N39-3E04</td>\n",
       "      <td>-7.231</td>\n",
       "      <td>0</td>\n",
       "      <td>0</td>\n",
       "      <td>0</td>\n",
       "      <td>...</td>\n",
       "      <td>0</td>\n",
       "      <td>0</td>\n",
       "      <td>0</td>\n",
       "      <td>0</td>\n",
       "      <td>0</td>\n",
       "      <td>0</td>\n",
       "      <td>0</td>\n",
       "      <td>0</td>\n",
       "      <td>0</td>\n",
       "      <td>0</td>\n",
       "    </tr>\n",
       "    <tr>\n",
       "      <th>19521</th>\n",
       "      <td>14PRPari4269</td>\n",
       "      <td>1899.05.28 03:47:35</td>\n",
       "      <td>14PRPari4270</td>\n",
       "      <td>1904.12.07 01:50:35</td>\n",
       "      <td>47N40-2W43</td>\n",
       "      <td>43N31-6E28</td>\n",
       "      <td>5.522</td>\n",
       "      <td>0</td>\n",
       "      <td>0</td>\n",
       "      <td>0</td>\n",
       "      <td>...</td>\n",
       "      <td>0</td>\n",
       "      <td>0</td>\n",
       "      <td>0</td>\n",
       "      <td>-6.0</td>\n",
       "      <td>0</td>\n",
       "      <td>0</td>\n",
       "      <td>0</td>\n",
       "      <td>0</td>\n",
       "      <td>0</td>\n",
       "      <td>0</td>\n",
       "    </tr>\n",
       "  </tbody>\n",
       "</table>\n",
       "<p>5 rows × 412 columns</p>\n",
       "</div>"
      ],
      "text/plain": [
       "       Chart_A_Name      Chart_A_UTCDate  Chart_B_Name      Chart_B_UTCDate  \\\n",
       "19517     Bourg2538  1912.06.06 03:33:52     Bourg2539  1917.02.21 10:33:52   \n",
       "19518    15Pari3873  1902.04.21 16:28:35    15Pari3874  1907.01.13 20:01:35   \n",
       "19519      Bourg441  1933.11.29 10:16:01      Bourg442  1937.01.07 04:16:01   \n",
       "19520       Lil4511  1897.09.21 03:12:29       Lil4514  1890.06.29 03:09:29   \n",
       "19521  14PRPari4269  1899.05.28 03:47:35  14PRPari4270  1904.12.07 01:50:35   \n",
       "\n",
       "      Chart_A_LatLong Chart_B_LatLong  B_Minus_A_AgeDifference_Years  \\\n",
       "19517      47N04-2E22      47N04-2E22                          4.708   \n",
       "19518      48N49-2E19      48N49-2E19                          4.731   \n",
       "19519      47N04-2E22      47N04-2E22                          3.097   \n",
       "19520      50N39-3E04      50N39-3E04                         -7.231   \n",
       "19521      47N40-2W43      43N31-6E28                          5.522   \n",
       "\n",
       "      A-B-MerCnjMer A-B-MerSxtMer A-B-MerSqrMer  ... A-B-CerCnjJun  \\\n",
       "19517             0             0             0  ...             0   \n",
       "19518             0             0             0  ...             0   \n",
       "19519             0             0             0  ...             0   \n",
       "19520             0             0             0  ...             0   \n",
       "19521             0             0             0  ...             0   \n",
       "\n",
       "      A-B-CerSxtJun A-B-CerSqrJun A-B-CerTriJun A-B-CerOppJun A-B-CerCnjCer  \\\n",
       "19517             0             0             0             0             0   \n",
       "19518             0             0             0             0          -6.0   \n",
       "19519             0             0             0           1.5             0   \n",
       "19520             0             0             0             0             0   \n",
       "19521             0             0          -6.0             0             0   \n",
       "\n",
       "      A-B-CerSxtCer A-B-CerSqrCer A-B-CerTriCer A-B-CerOppCer  \n",
       "19517             0             0             0             0  \n",
       "19518             0             0             0             0  \n",
       "19519             0           4.8             0             0  \n",
       "19520             0             0             0             0  \n",
       "19521             0             0             0             0  \n",
       "\n",
       "[5 rows x 412 columns]"
      ]
     },
     "execution_count": 3,
     "metadata": {},
     "output_type": "execute_result"
    }
   ],
   "source": [
    "couple_df = couple_df.replace({\" \":0})\n",
    "couple_df.tail()"
   ]
  },
  {
   "cell_type": "code",
   "execution_count": 13,
   "metadata": {},
   "outputs": [],
   "source": [
    "##couple_df.to_csv(AstroEconomics/\"astrology_data\")"
   ]
  },
  {
   "cell_type": "code",
   "execution_count": 31,
   "metadata": {},
   "outputs": [
    {
     "name": "stdout",
     "output_type": "stream",
     "text": [
      "(19522, 405) (19522, 1)\n"
     ]
    }
   ],
   "source": [
    "#couple_df['A-B-MerCnjMer'].str.strip()\n",
    "\n",
    "#for row in couple_df['A-B-MerCnjMer'].iteritems():\n",
    "#    print(repr(row))\n",
    "\n",
    "# X = smoking[['Age', 'Height', 'Sex_Female', 'Sex_Male', 'Smoker_Current', 'Smoker_Non']]\n",
    "y = couple_df[\"B_Minus_A_AgeDifference_Years\"].values.reshape(-1, 1)\n",
    "X = couple_df.iloc[:,7:]\n",
    "\n",
    "print(X.shape, y.shape)\n",
    "\n",
    "    "
   ]
  },
  {
   "cell_type": "code",
   "execution_count": null,
   "metadata": {},
   "outputs": [],
   "source": []
  },
  {
   "cell_type": "code",
   "execution_count": 32,
   "metadata": {},
   "outputs": [],
   "source": [
    "from sklearn.model_selection import train_test_split\n",
    "X_train, X_test, y_train, y_test = train_test_split(X, y)"
   ]
  },
  {
   "cell_type": "code",
   "execution_count": 33,
   "metadata": {},
   "outputs": [],
   "source": [
    "from sklearn.preprocessing import StandardScaler\n",
    "X_scaler = StandardScaler().fit(X_train)\n",
    "y_scaler = StandardScaler().fit(y_train)\n",
    "\n",
    "X_train_scaled = X_scaler.transform(X_train)\n",
    "X_test_scaled = X_scaler.transform(X_test)\n",
    "y_train_scaled = y_scaler.transform(y_train)\n",
    "y_test_scaled = y_scaler.transform(y_test)"
   ]
  },
  {
   "cell_type": "code",
   "execution_count": 34,
   "metadata": {},
   "outputs": [
    {
     "data": {
      "text/plain": [
       "LinearRegression(copy_X=True, fit_intercept=True, n_jobs=None, normalize=False)"
      ]
     },
     "execution_count": 34,
     "metadata": {},
     "output_type": "execute_result"
    }
   ],
   "source": [
    "from sklearn.linear_model import LinearRegression\n",
    "model = LinearRegression()\n",
    "model.fit(X_train_scaled, y_train_scaled)"
   ]
  },
  {
   "cell_type": "code",
   "execution_count": 35,
   "metadata": {
    "scrolled": true
   },
   "outputs": [
    {
     "data": {
      "image/png": "[encoded data removed]",
      "text/plain": [
       "<Figure size 432x288 with 1 Axes>"
      ]
     },
     "metadata": {
      "needs_background": "light"
     },
     "output_type": "display_data"
    }
   ],
   "source": [
    "predictions = model.predict(X_test_scaled)\n",
    "model.fit(X_train_scaled, y_train_scaled)\n",
    "plt.scatter(model.predict(X_train_scaled), model.predict(X_train_scaled) - y_train_scaled, c=\"blue\", label=\"Training Data\")\n",
    "plt.scatter(model.predict(X_test_scaled), model.predict(X_test_scaled) - y_test_scaled, c=\"orange\", label=\"Testing Data\")\n",
    "plt.legend()\n",
    "plt.hlines(y=0, xmin=y_test_scaled.min(), xmax=y_test_scaled.max())\n",
    "plt.title(\"Residual Plot\")\n",
    "plt.show()"
   ]
  },
  {
   "cell_type": "code",
   "execution_count": 37,
   "metadata": {},
   "outputs": [
    {
     "data": {
      "text/plain": [
       "-0.002732353285738176"
      ]
     },
     "execution_count": 37,
     "metadata": {},
     "output_type": "execute_result"
    }
   ],
   "source": [
    "model.score(X_test_scaled, y_test_scaled)"
   ]
  },
  {
   "cell_type": "code",
   "execution_count": 38,
   "metadata": {},
   "outputs": [
    {
     "data": {
      "text/plain": [
       "array([[-0.6719517 ],\n",
       "       [ 0.12666746],\n",
       "       [ 0.18526095],\n",
       "       ...,\n",
       "       [-0.30879783],\n",
       "       [ 0.1536422 ],\n",
       "       [ 0.35486157]])"
      ]
     },
     "execution_count": 38,
     "metadata": {},
     "output_type": "execute_result"
    }
   ],
   "source": [
    "model.predict(X_test_scaled)"
   ]
  },
  {
   "cell_type": "code",
   "execution_count": 39,
   "metadata": {},
   "outputs": [
    {
     "data": {
      "text/plain": [
       "array([[-0.67351067],\n",
       "       [ 0.29431368],\n",
       "       [ 0.50049396],\n",
       "       ...,\n",
       "       [-0.39052235],\n",
       "       [ 0.02012182],\n",
       "       [ 1.11023832]])"
      ]
     },
     "execution_count": 39,
     "metadata": {},
     "output_type": "execute_result"
    }
   ],
   "source": [
    "y_test_scaled"
   ]
  },
  {
   "cell_type": "code",
   "execution_count": 40,
   "metadata": {},
   "outputs": [],
   "source": [
    "from sklearn.cluster import KMeans\n",
    "kmeans = KMeans(n_clusters=12)\n",
    "# Fit the model to the data\n",
    "kmeans.fit(X)\n",
    "# Use the data to predict the clusters\n",
    "# save the predictions as `predicted_clusters`\n",
    "predicted_clusters = kmeans.predict(X)"
   ]
  },
  {
   "cell_type": "code",
   "execution_count": 41,
   "metadata": {},
   "outputs": [],
   "source": [
    "centers = kmeans.cluster_centers_\n",
    "labels = kmeans.labels_\n"
   ]
  },
  {
   "cell_type": "code",
   "execution_count": 42,
   "metadata": {},
   "outputs": [
    {
     "data": {
      "text/plain": [
       "array([[-1.66533454e-16, -1.21430643e-17, -8.67361738e-19, ...,\n",
       "         4.09523810e-02, -6.57142857e-02, -3.38095238e-02],\n",
       "       [-1.36199095e-01,  4.07239819e-03, -3.50678733e-02, ...,\n",
       "         1.76470588e-02,  2.03619910e-03,  6.15826834e-17],\n",
       "       [-2.92966700e+00, -9.28077060e-17, -5.03069808e-17, ...,\n",
       "        -1.95761857e-02,  2.11907164e-02, -1.65489405e-02],\n",
       "       ...,\n",
       "       [-5.96209913e-02,  5.34985423e-02,  2.18658892e-03, ...,\n",
       "         6.76384840e-02,  3.17784257e-02,  6.55976676e-03],\n",
       "       [-5.82205029e-02, -9.28433269e-03, -8.60735010e-03, ...,\n",
       "         8.22050290e-03,  2.51450677e-03,  1.87620890e-02],\n",
       "       [-5.36130536e-02, -6.52680653e-03,  6.99300699e-02, ...,\n",
       "        -1.32867133e-02, -4.24242424e-02, -3.19347319e-02]])"
      ]
     },
     "execution_count": 42,
     "metadata": {},
     "output_type": "execute_result"
    }
   ],
   "source": [
    "centers"
   ]
  },
  {
   "cell_type": "code",
   "execution_count": 43,
   "metadata": {},
   "outputs": [
    {
     "data": {
      "text/plain": [
       "array([4, 3, 5, ..., 3, 1, 4])"
      ]
     },
     "execution_count": 43,
     "metadata": {},
     "output_type": "execute_result"
    }
   ],
   "source": [
    "labels"
   ]
  }
 ],
 "metadata": {
  "kernelspec": {
   "display_name": "Python 3",
   "language": "python",
   "name": "python3"
  },
  "language_info": {
   "codemirror_mode": {
    "name": "ipython",
    "version": 3
   },
   "file_extension": ".py",
   "mimetype": "text/x-python",
   "name": "python",
   "nbconvert_exporter": "python",
   "pygments_lexer": "ipython3",
   "version": "3.7.3"
  }
 },
 "nbformat": 4,
 "nbformat_minor": 2
}
